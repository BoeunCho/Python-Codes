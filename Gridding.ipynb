{
 "cells": [
  {
   "cell_type": "code",
   "execution_count": 1,
   "id": "50423da1",
   "metadata": {},
   "outputs": [],
   "source": [
    "import matplotlib.pyplot as plt\n",
    "import cartopy.crs as ccrs\n",
    "import cartopy.io.shapereader as shapereader\n",
    "from shapely.geometry import Polygon\n",
    "from descartes import PolygonPatch\n",
    "import geopandas as gpd\n",
    "import numpy as np\n",
    "import shapefile  \n",
    "import csv\n",
    "from itertools import zip_longest\n",
    "import pandas as pd\n",
    "from pandas import DataFrame"
   ]
  },
  {
   "cell_type": "code",
   "execution_count": 2,
   "id": "d26e43dd",
   "metadata": {},
   "outputs": [],
   "source": [
    "# generate grid of polygons\n",
    "\n",
    "xmin = -180\n",
    "ymin = -90\n",
    "xmax = 180\n",
    "ymax =  90"
   ]
  },
  {
   "cell_type": "code",
   "execution_count": 3,
   "id": "68006435",
   "metadata": {},
   "outputs": [],
   "source": [
    "# limits of each polygon\n",
    "\n",
    "length = 5\n",
    "wide = 5"
   ]
  },
  {
   "cell_type": "code",
   "execution_count": 4,
   "id": "7cd510a6",
   "metadata": {},
   "outputs": [],
   "source": [
    "cols = list(np.arange(xmin, xmax + wide, wide))\n",
    "rows = list(np.arange(ymin, ymax + length, length))"
   ]
  },
  {
   "cell_type": "code",
   "execution_count": 5,
   "id": "f831ba0a",
   "metadata": {},
   "outputs": [],
   "source": [
    "polygons = []\n",
    "\n",
    "for x in cols[:-1]:\n",
    "    for y in rows[:-1]:\n",
    "        polygons.append(Polygon([(x,y), (x+wide, y), (x+wide, y+length), (x, y+length)]))"
   ]
  },
  {
   "cell_type": "code",
   "execution_count": 6,
   "id": "fe67dfc6",
   "metadata": {},
   "outputs": [],
   "source": [
    "grid = gpd.GeoDataFrame({'geometry':polygons})\n",
    "grid.to_file(\"grid.shp\")"
   ]
  },
  {
   "cell_type": "code",
   "execution_count": 7,
   "id": "2bf82d8f",
   "metadata": {},
   "outputs": [
    {
     "name": "stdout",
     "output_type": "stream",
     "text": [
      "Grid correct\n"
     ]
    }
   ],
   "source": [
    "# checking grid by counting\n",
    "\n",
    "if len(polygons) == 2592:\n",
    "    print(\"Grid correct\")"
   ]
  },
  {
   "cell_type": "code",
   "execution_count": 8,
   "id": "3d93013b",
   "metadata": {},
   "outputs": [
    {
     "data": {
      "text/plain": [
       "<cartopy.mpl.gridliner.Gridliner at 0x7fde12c61a00>"
      ]
     },
     "execution_count": 8,
     "metadata": {},
     "output_type": "execute_result"
    },
    {
     "data": {
      "image/png": "[encoded data removed]",
      "text/plain": [
       "<Figure size 720x720 with 1 Axes>"
      ]
     },
     "metadata": {
      "needs_background": "light"
     },
     "output_type": "display_data"
    }
   ],
   "source": [
    "#create figure\n",
    "\n",
    "fig1 = plt.figure(figsize=(10,10)) \n",
    "PLT = plt.axes(projection=ccrs.PlateCarree())\n",
    "PLT.set_extent([-180,180,90,-90])\n",
    "PLT.gridlines()"
   ]
  },
  {
   "cell_type": "code",
   "execution_count": 9,
   "id": "324949db",
   "metadata": {},
   "outputs": [
    {
     "data": {
      "text/plain": [
       "<cartopy.mpl.feature_artist.FeatureArtist at 0x7fde12c471f0>"
      ]
     },
     "execution_count": 9,
     "metadata": {},
     "output_type": "execute_result"
    }
   ],
   "source": [
    "#import and display Nautral Earth shapefile\n",
    "\n",
    "fname = 'ne_10m_admin_0_countries.shp'\n",
    "adm1_shapes = list(shapereader.Reader(fname).geometries())\n",
    "PLT.add_geometries(adm1_shapes, ccrs.PlateCarree(), edgecolor='black', facecolor='gray', alpha=0.5)"
   ]
  },
  {
   "cell_type": "code",
   "execution_count": null,
   "id": "20a9b52b",
   "metadata": {},
   "outputs": [],
   "source": [
    "# for each country, calculate the overlap with each grid cell\n",
    "\n",
    "datafile = 'Potential_restoration_by_country.csv'\n",
    "pop_df = pd.read_csv(datafile)\n",
    "Countries = pop_df.iloc[:,0].tolist()\n",
    "df = pd.DataFrame()\n",
    "\n",
    "for c in Countries:\n",
    "    Intersections = []\n",
    "    Geom = []\n",
    "\n",
    "    for country in shapereader.Reader(fname).records():\n",
    "        \n",
    "        if country.attributes['ADMIN'] == '{}'.format(c): \n",
    "            # define country polygon\n",
    "            \n",
    "            Country_polygon = country.geometry\n",
    "            \n",
    "            for poly in polygons:\n",
    "\n",
    "                # PLT.add_patch(PolygonPatch(poly, fc='#cc00cc', ec='#555555', alpha=0.5, zorder=5))       \n",
    "                # calculate intersect\n",
    "                \n",
    "                x = poly.intersection(Country_polygon)\n",
    "                Country_intersect = x.area/Country_polygon.area*100\n",
    "                Intersections.append(Country_intersect)\n",
    "                Geom.append(poly.centroid.wkt)"
   ]
  },
  {
   "cell_type": "code",
   "execution_count": null,
   "id": "99298206",
   "metadata": {},
   "outputs": [],
   "source": [
    "# df = DataFrame(Intersections, columns=['{} - % Intersect'.format(c)])\n",
    "\n",
    "df['{} - % Intersect'.format(c)] = Intersections       \n",
    "df['Polygon centroid'] = Geom\n",
    "df.to_csv('Country_intersects.csv')"
   ]
  }
 ],
 "metadata": {
  "kernelspec": {
   "display_name": "Python 3 (ipykernel)",
   "language": "python",
   "name": "python3"
  },
  "language_info": {
   "codemirror_mode": {
    "name": "ipython",
    "version": 3
   },
   "file_extension": ".py",
   "mimetype": "text/x-python",
   "name": "python",
   "nbconvert_exporter": "python",
   "pygments_lexer": "ipython3",
   "version": "3.9.12"
  }
 },
 "nbformat": 4,
 "nbformat_minor": 5
}
